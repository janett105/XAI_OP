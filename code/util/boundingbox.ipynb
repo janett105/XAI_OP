{
 "cells": [
  {
   "cell_type": "code",
   "execution_count": 21,
   "metadata": {},
   "outputs": [],
   "source": [
    "import os\n",
    "from torchvision.transforms import Resize\n",
    "import numpy as np\n",
    "from PIL import Image, ImageDraw\n",
    "import torch\n",
    "import pandas as pd"
   ]
  },
  {
   "cell_type": "code",
   "execution_count": 65,
   "metadata": {},
   "outputs": [
    {
     "name": "stdout",
     "output_type": "stream",
     "text": [
      "1.0000000000000002\n"
     ]
    },
    {
     "data": {
      "image/jpeg": "[encoded data removed]",
      "image/png": "[encoded data removed]",
      "text/plain": [
       "<PIL.Image.Image image mode=RGB size=224x224>"
      ]
     },
     "execution_count": 65,
     "metadata": {},
     "output_type": "execute_result"
    }
   ],
   "source": [
    "def createBBox(base_path):\n",
    "    input_size = 224\n",
    "\n",
    "    total_bbox=np.zeros((input_size, input_size))\n",
    "\n",
    "    Bbox_path = base_path+'Bbox.npy'\n",
    "    for path1 in ['train/', 'test/','validation/']:\n",
    "        for path2 in ['0/', '1/']:\n",
    "            images_path = base_path+path1+path2\n",
    "            for file_name in os.listdir(images_path):\n",
    "                img = Image.open(images_path+file_name)\n",
    "\n",
    "                # 이미지 resize (224, 224)\n",
    "                img = img.resize((input_size, input_size))\n",
    "                \n",
    "                # bouding box 안 1, 밖 0으로 설정\n",
    "                img_np = np.array(img)\n",
    "                img_np = np.where(img_np > 0, 1, 0)\n",
    "\n",
    "                # 전체 bounding box 합침\n",
    "                try:\n",
    "                    total_bbox += img_np\n",
    "                except:\n",
    "                    img_np = img_np[:, :,0]\n",
    "                    total_bbox += img_np\n",
    "    \n",
    "    original_heatmap = total_bbox\n",
    "    \n",
    "    # boudning box밖은 0이 아닌 최솟값으로 진행\n",
    "    min_value = min(total_bbox[total_bbox != 0])\n",
    "    np.where(total_bbox==0, min_value, total_bbox) \n",
    "\n",
    "    # 확률 분포로 변환\n",
    "    total_bbox = total_bbox / np.sum(total_bbox)\n",
    "    print(total_bbox.sum())\n",
    "    #assert total_bbox.sum() == 1.0, f\"{total_bbox.sum()}은 확률 분포가 아닙니다\"\n",
    "\n",
    "    # 저장    \n",
    "    np.save(Bbox_path, total_bbox)\n",
    "    totalBbox_img = Image.fromarray(original_heatmap*200).convert('RGB')\n",
    "    totalBbox_img= totalBbox_img.convert('RGB')\n",
    "    totalBbox_img.save(base_path+'Bbox.png')\n",
    "    \n",
    "    return totalBbox_img\n",
    "\n",
    "base_path = 'C:/Users/janet/MyProjects/XAI_OP/data/DB_BBox/'\n",
    "totalBbox_img = createBBox(base_path)\n",
    "totalBbox_img"
   ]
  },
  {
   "cell_type": "code",
   "execution_count": 18,
   "metadata": {},
   "outputs": [],
   "source": [
    "def patchify_heatmap(heatmaps, patch_size):\n",
    "    \"\"\"\n",
    "    heatmaps batch를 받아서 (torch.Size([8, 224, 224]))\n",
    "    [8, 224,224] 확률 분포 heatmap -> patch로 나눠서 [8, 14, 14, 16, 16] \n",
    "    patch 안의 값들은 sum -> [8, 14*14(196)]\n",
    "    batch별로 각 값들은 확률분포를 따름\n",
    "    \"\"\"\n",
    "    batch_size = heatmaps.shape[0]\n",
    "\n",
    "    heatmaps = heatmaps.unfold(1, patch_size, patch_size).unfold(2, patch_size, patch_size)\n",
    "    heatmaps = heatmaps.contiguous().view(batch_size, -1, patch_size*patch_size).sum(-1)\n",
    "    return heatmaps"
   ]
  },
  {
   "cell_type": "code",
   "execution_count": 67,
   "metadata": {},
   "outputs": [
    {
     "name": "stdout",
     "output_type": "stream",
     "text": [
      "0.9999999999999999\n"
     ]
    },
    {
     "data": {
      "image/jpeg": "[encoded data removed]",
      "image/png": "[encoded data removed]",
      "text/plain": [
       "<PIL.Image.Image image mode=RGB size=224x224>"
      ]
     },
     "execution_count": 67,
     "metadata": {},
     "output_type": "execute_result"
    }
   ],
   "source": [
    "def createBBoxline(base_path, size=1):\n",
    "    Bbox = np.load(base_path+'Bbox.npy')  \n",
    "    Bbox_line = np.where(Bbox> 0, 1, 0)\n",
    "\n",
    "    BoxPixels = np.where(Bbox_line==1)\n",
    "    # 좌우 102,  상하 117\n",
    "    # 1.5배 : 153, 상하 175.5\n",
    "    left = min(BoxPixels[1]) # 31\n",
    "    right = max(BoxPixels[1]) # 133\n",
    "    bottom = min(BoxPixels[0]) # 26\n",
    "    top = max(BoxPixels[0]) # 143\n",
    "\n",
    "    center_x = (left + right) / 2\n",
    "    center_y = (top + bottom) / 2\n",
    "\n",
    "    width = right - left\n",
    "    height = top - bottom\n",
    "\n",
    "    new_width = width * size\n",
    "    new_height = height * size\n",
    "\n",
    "    new_left = max(0, int(center_x - new_width / 2))\n",
    "    new_right = min(Bbox_line.shape[1], int(center_x + new_width / 2))\n",
    "    new_top = max(0, int(center_y - new_height / 2))\n",
    "    new_bottom = min(Bbox_line.shape[0], int(center_y + new_height / 2))\n",
    "    \n",
    "    Bbox_line[new_top:new_bottom+1, new_left:new_right+1] = 1\n",
    "\n",
    "    # 확률 분포로 변환\n",
    "    Bbox_line = Bbox_line / np.sum(Bbox_line)\n",
    "    print(Bbox_line.sum())\n",
    "    #assert Bbox_line.sum()==1.0, f\"{Bbox_line.sum()}은 확률분포가 아닙니다\"\n",
    "\n",
    "    Bbox_line_img = Image.fromarray(np.where(Bbox_line>0, 255, 0)).convert('RGB')\n",
    "\n",
    "    np.save(base_path+f'BboxLine_{size}.npy', Bbox_line)\n",
    "    Bbox_line_img.save(base_path+f'BboxLine_{size}.jpg')\n",
    "\n",
    "    return Bbox_line_img\n",
    "\n",
    "base_path = 'C:/Users/janet/MyProjects/XAI_OP/data/DB_BBox/'\n",
    "size = 1.9\n",
    "Bbox_line_img = createBBoxline(base_path, size)\n",
    "Bbox_line_img"
   ]
  },
  {
   "cell_type": "code",
   "execution_count": 50,
   "metadata": {},
   "outputs": [
    {
     "data": {
      "text/plain": [
       "0  \n",
       "256    156\n",
       "0       14\n",
       "48      13\n",
       "96      12\n",
       "18       1\n",
       "Name: count, dtype: int64"
      ]
     },
     "execution_count": 50,
     "metadata": {},
     "output_type": "execute_result"
    }
   ],
   "source": [
    "# 90% -> 196개 중 19개 남김/ 177개 지움\n",
    "# 75% -> 196개 중 49개 남김 / 147개 지움\n",
    "\n",
    "# heatmap : 53개\n",
    "# 기본 Line : 64개\n",
    "# Line 1.5배 : 110개\n",
    "# Line 1.8배 : 132개\n",
    "# Line 1.9배 : 156개 -> CNN\n",
    "# 2, 2.1 : 156\n",
    "# 2.2 : 182 -> vit\n",
    "\n",
    "heatmap = np.load(f'../../data/DB_BBox/BboxLine_{size}.npy')\n",
    "heatmap = torch.from_numpy(heatmap)\n",
    "heatmaps = heatmap.unsqueeze(0).repeat(8,1,1)\n",
    "heatmaps = patchify_heatmap(heatmaps, 16)\n",
    "h = pd.DataFrame(heatmaps[0, :]) \n",
    "h.value_counts()"
   ]
  },
  {
   "cell_type": "code",
   "execution_count": null,
   "metadata": {},
   "outputs": [],
   "source": []
  }
 ],
 "metadata": {
  "kernelspec": {
   "display_name": "xai-op",
   "language": "python",
   "name": "python3"
  },
  "language_info": {
   "codemirror_mode": {
    "name": "ipython",
    "version": 3
   },
   "file_extension": ".py",
   "mimetype": "text/x-python",
   "name": "python",
   "nbconvert_exporter": "python",
   "pygments_lexer": "ipython3",
   "version": "3.10.14"
  }
 },
 "nbformat": 4,
 "nbformat_minor": 2
}
