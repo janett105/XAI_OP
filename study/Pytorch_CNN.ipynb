{
 "cells": [
  {
   "cell_type": "markdown",
   "id": "46a725e8",
   "metadata": {},
   "source": [
    "## PyTorch"
   ]
  },
  {
   "cell_type": "markdown",
   "id": "1997857e",
   "metadata": {},
   "source": [
    "### CNN을 사용하여 학습시키려면 다음 단계를 완료해야 합니다.\n",
    "\n",
    "1. 데이터 로드\n",
    "2. 모델(CNN) 정의\n",
    "3. 손실 함수 정의\n",
    "4. 학습 데이터에서 모델을 학습\n",
    "5. 테스트 데이터에서 네트워크를 테스트"
   ]
  },
  {
   "cell_type": "markdown",
   "id": "ebc31316",
   "metadata": {},
   "source": [
    "### 1. 데이터를 로드합니다."
   ]
  },
  {
   "cell_type": "markdown",
   "id": "961b1aa7",
   "metadata": {},
   "source": [
    "CIFAR10 데이터 세트의 학습 및 테스트 데이터 세트에 대한 위의 세 단계를 처리합니다."
   ]
  },
  {
   "cell_type": "markdown",
   "id": "f80b16d5",
   "metadata": {},
   "source": [
    "CIFAR10은 기계 학습 연구를 위해 널리 사용되는 데이터 세트입니다. 5만개의 학습 이미지와 1만개의 테스트 이미지로 구성되어 있습니다. 모두 크기가 3x32x32이며, 이는 크기가 32x32 픽셀인 3채널 색 이미지를 의미합니다."
   ]
  },
  {
   "cell_type": "markdown",
   "id": "84e03066",
   "metadata": {},
   "source": [
    "이미지는 '비행기'(0), '자동차'(1), '새'(2), '고양이'(3), '사슴'(4), '개'(5), '개구리'(6), '말'(7), '배'(8), '트럭'(9) 등 10개 클래스로 나뉘어 있습니다."
   ]
  },
  {
   "cell_type": "code",
   "execution_count": 21,
   "id": "cfefab05",
   "metadata": {},
   "outputs": [],
   "source": [
    "from torchvision.datasets import CIFAR10\n",
    "from torchvision.transforms import transforms\n",
    "from torch.utils.data import DataLoader"
   ]
  },
  {
   "cell_type": "markdown",
   "id": "32a276fc",
   "metadata": {},
   "source": [
    "PyTorch에서 CIFAR10 데이터 세트를 로드하고 읽으려면 다음 세 단계를 수행합니다."
   ]
  },
  {
   "cell_type": "markdown",
   "id": "68302e04",
   "metadata": {},
   "source": [
    "1. 이미지에 적용할 변환 정의: 모델을 학습하려면 이미지를 정규화된 범위 [-1,1]의 텐서로 변환해야 합니다."
   ]
  },
  {
   "cell_type": "code",
   "execution_count": 22,
   "id": "dee044fc",
   "metadata": {},
   "outputs": [],
   "source": [
    "# Loading and normalizing the data.\n",
    "# Define transformations for the training and test sets\n",
    "transformations = transforms.Compose([\n",
    "    transforms.ToTensor(),\n",
    "    transforms.Normalize((0.5, 0.5, 0.5), (0.5, 0.5, 0.5))\n",
    "])"
   ]
  },
  {
   "cell_type": "code",
   "execution_count": 23,
   "id": "2cd8f3ea",
   "metadata": {},
   "outputs": [],
   "source": [
    "# CIFAR10 dataset consists of 50K training images.\n",
    "# We define the batch size of 10 to load 5,000 batches of images.\n",
    "batch_size = 10\n",
    "number_of_labels = 10 "
   ]
  },
  {
   "cell_type": "markdown",
   "id": "c64d4263",
   "metadata": {},
   "source": [
    "2. 사용 가능한 데이터 세트의 인스턴스를 만들고 데이터 세트를 로드합니다. 데이터를 로드하려면 데이터 세트를 나타내는 추상 클래스인 torch.utils.data.Dataset 클래스를 사용합니다. 데이터 세트는 코드를 처음 실행할 때만 로컬로 다운로드됩니다."
   ]
  },
  {
   "cell_type": "code",
   "execution_count": 24,
   "id": "68233011",
   "metadata": {},
   "outputs": [
    {
     "name": "stdout",
     "output_type": "stream",
     "text": [
      "Files already downloaded and verified\n"
     ]
    }
   ],
   "source": [
    "# Create an instance for training. \n",
    "# When we run this code for the first time, the CIFAR10 train dataset will be downloaded locally. \n",
    "train_set =CIFAR10(root=\"./data\",train=True,transform=transformations,download=True)\n"
   ]
  },
  {
   "cell_type": "markdown",
   "id": "d101d807",
   "metadata": {},
   "source": [
    "3. DataLoader를 사용하여 데이터에 액세스합니다. 데이터에 대한 액세스를 가져오고 데이터를 메모리에 저장하려면 torch.utils.data.DataLoader 클래스를 사용합니다. PyTorch의 DataLoader는 데이터 세트를 래핑하고 기본 데이터에 대한 액세스를 제공합니다. 이 래퍼는 정의된 일괄 처리 크기마다 이미지 일괄 처리를 보유합니다."
   ]
  },
  {
   "cell_type": "code",
   "execution_count": 25,
   "id": "84fb8eeb",
   "metadata": {},
   "outputs": [
    {
     "name": "stdout",
     "output_type": "stream",
     "text": [
      "The number of images in a training set is:  50000\n",
      "Files already downloaded and verified\n",
      "The number of images in a test set is:  10000\n",
      "The number of batches per epoch is:  5000\n"
     ]
    }
   ],
   "source": [
    "# Create a loader for the training set which will read the data within batch size and put into memory.\n",
    "train_loader = DataLoader(train_set, batch_size=batch_size, shuffle=True, num_workers=0)\n",
    "print(\"The number of images in a training set is: \", len(train_loader)*batch_size)\n",
    "\n",
    "# Create an instance for testing, note that train is set to False.\n",
    "# When we run this code for the first time, the CIFAR10 test dataset will be downloaded locally. \n",
    "test_set = CIFAR10(root=\"./data\", train=False, transform=transformations, download=True)\n",
    "\n",
    "# Create a loader for the test set which will read the data within batch size and put into memory. \n",
    "# Note that each shuffle is set to false for the test loader.\n",
    "test_loader = DataLoader(test_set, batch_size=batch_size, shuffle=False, num_workers=0)\n",
    "print(\"The number of images in a test set is: \", len(test_loader)*batch_size)\n",
    "\n",
    "print(\"The number of batches per epoch is: \", len(train_loader))\n",
    "classes = ('plane', 'car', 'bird', 'cat', 'deer', 'dog', 'frog', 'horse', 'ship', 'truck')"
   ]
  },
  {
   "cell_type": "markdown",
   "id": "af9c6a5b",
   "metadata": {},
   "source": [
    "### 2. 나선 신경망(CNN) 정의"
   ]
  },
  {
   "cell_type": "markdown",
   "id": "b9225412",
   "metadata": {},
   "source": [
    "CNN은 데이터의 복잡한 특징을 감지하도록 설계된 다중 계층 신경망으로 정의되는 신경망의 한 종류입니다. 이는 컴퓨터 비전 애플리케이션에서 가장 일반적으로 사용됩니다."
   ]
  },
  {
   "cell_type": "markdown",
   "id": "995d2473",
   "metadata": {},
   "source": [
    "나선 계층은 이미지의 특징을 감지하는 데 도움이 되는 CNN의 주요 계층입니다. 각 계층에는 이미지의 구체적인 특징을 감지하는 채널 수와 감지된 특징의 크기를 정의하는 여러 커널이 있습니다. 따라서 채널이 64개이고 커널 크기가 3 x 3인 나선 계층은 각각 크기가 3 x 3인 64개의 고유한 특징을 감지합니다. 나선 계층을 정의할 때 입력 채널 수, 출력 채널 수 및 커널 크기를 제공합니다. 계층의 출력 채널 수는 다음 계층에 대한 입력 채널 수로 사용됩니다.\n",
    "\n",
    "예를 들어 입력 채널 수 = 3, 출력 채널 수 = 10 및 커널 크기 = 6인 나선 계층은 RGB 이미지(3개 채널)를 입력으로 받고 10개의 특징 감지기를 커널 크기가 6x6인 이미지에 적용합니다. 커널 크기가 작을수록 계산 시간과 가중치 공유가 줄어듭니다."
   ]
  },
  {
   "cell_type": "markdown",
   "id": "55270f5a",
   "metadata": {},
   "source": [
    "네트워크에 포함되는 다른 계층은 다음과 같습니다.\n",
    "\n",
    "* ReLU 계층은 들어오는 모든 특징을 0 이상으로 정의하는 활성화 함수입니다. 이 계층을 적용하면 0보다 작은 숫자는 0으로 변경되고, 나머지는 그대로 유지됩니다.\n",
    "* BatchNorm2d 계층은 정규화를 입력에 적용하여 평균 및 단위 분산이 0이 되고 네트워크 정확도를 높입니다.\n",
    "* MaxPool 계층은 이미지에서 개체의 위치가 특정 특징을 감지하는 신경망의 기능에 영향을 주지 않도록 하는 데 도움이 됩니다.\n",
    "* Linear 계층은 각 클래스의 점수를 계산하는 네트워크의 최종 계층입니다. CIFAR10 데이터 세트에는 10개의 레이블 클래스가 있습니다. 점수가 가장 높은 레이블은 모델에서 예측하는 레이블이 됩니다. 선형 계층에서 클래스 수에 해당하는 입력 특징 수와 출력 특징 수를 지정해야 합니다."
   ]
  },
  {
   "cell_type": "markdown",
   "id": "b7115472",
   "metadata": {},
   "source": [
    "정방향 함수는 손실 함수의 값을 계산하고, 역방향 함수는 학습 가능한 매개 변수의 그라데이션을 계산합니다. PyTorch를 사용하여 신경망을 만드는 경우 정방향 함수만 정의하면 됩니다. 역방향 함수는 자동으로 정의됩니다."
   ]
  },
  {
   "cell_type": "markdown",
   "id": "15c56ac6",
   "metadata": {},
   "source": [
    "여기서의 네트워크는 다음 14개의 계층으로 구성됩니다.\n",
    "\n",
    "Conv -> BatchNorm -> ReLU -> Conv -> BatchNorm -> ReLU -> MaxPool -> Conv -> BatchNorm -> ReLU -> Conv -> BatchNorm -> ReLU -> Linear."
   ]
  },
  {
   "cell_type": "code",
   "execution_count": 26,
   "id": "cebf6792",
   "metadata": {},
   "outputs": [],
   "source": [
    "import torch\n",
    "import torch.nn as nn\n",
    "import torchvision\n",
    "import torch.nn.functional as F\n",
    "\n",
    "# Define a convolution neural network\n",
    "class Network(nn.Module):\n",
    "    def __init__(self):\n",
    "        super(Network, self).__init__()\n",
    "        \n",
    "        self.conv1 = nn.Conv2d(in_channels=3, out_channels=12, kernel_size=5, stride=1, padding=1)\n",
    "        self.bn1 = nn.BatchNorm2d(12)\n",
    "        self.conv2 = nn.Conv2d(in_channels=12, out_channels=12, kernel_size=5, stride=1, padding=1)\n",
    "        self.bn2 = nn.BatchNorm2d(12)\n",
    "        self.pool = nn.MaxPool2d(2,2)\n",
    "        self.conv4 = nn.Conv2d(in_channels=12, out_channels=24, kernel_size=5, stride=1, padding=1)\n",
    "        self.bn4 = nn.BatchNorm2d(24)\n",
    "        self.conv5 = nn.Conv2d(in_channels=24, out_channels=24, kernel_size=5, stride=1, padding=1)\n",
    "        self.bn5 = nn.BatchNorm2d(24)\n",
    "        self.fc1 = nn.Linear(24*10*10, 10)\n",
    "\n",
    "    def forward(self, input):\n",
    "        output = F.relu(self.bn1(self.conv1(input)))      \n",
    "        output = F.relu(self.bn2(self.conv2(output)))     \n",
    "        output = self.pool(output)                        \n",
    "        output = F.relu(self.bn4(self.conv4(output)))     \n",
    "        output = F.relu(self.bn5(self.conv5(output)))     \n",
    "        output = output.view(-1, 24*10*10)\n",
    "        output = self.fc1(output)\n",
    "\n",
    "        return output"
   ]
  },
  {
   "cell_type": "code",
   "execution_count": 27,
   "id": "d3ee6bf6",
   "metadata": {},
   "outputs": [],
   "source": [
    "# Instantiate a neural network model \n",
    "model = Network()"
   ]
  },
  {
   "cell_type": "markdown",
   "id": "7aa0e400",
   "metadata": {},
   "source": [
    "### 3. 손실 함수를 정의합니다."
   ]
  },
  {
   "cell_type": "markdown",
   "id": "ee581201",
   "metadata": {},
   "source": [
    "손실 함수는 출력이 대상과 다른 정도를 예측하는 값을 계산합니다. 주요 목표는 신경망의 역방향 전파를 통해 가중치 벡터 값을 변경하여 손실 함수의 값을 줄이는 것입니다.\n",
    "\n",
    "손실 값은 모델 정확도와 다릅니다. 손실 함수를 통해 학습 세트에서 최적화를 반복할 때마다 모델이 얼마나 잘 작동하는지 이해할 수 있습니다. 모델의 정확도는 테스트 데이터에서 계산되며 올바른 예측의 백분율을 보여 줍니다.\n",
    "\n",
    "PyTorch에서 신경망 패키지에는 심층 신경망의 구성 요소를 구성하는 다양한 손실 함수가 포함되어 있습니다. 이 자습서에서는 분류 교차 엔트로피 손실 및 Adam 최적화 도구를 사용하여 손실 함수 정의를 기반으로 하는 분류 손실 함수를 사용합니다. lr(학습 속도)은 손실 그라데이션과 관련하여 네트워크의 가중치를 조정하는 정도에 대한 제어를 설정합니다. 여기서는 0.001로 설정합니다. 이 값이 낮을수록 학습 속도가 느려집니다."
   ]
  },
  {
   "cell_type": "markdown",
   "id": "91418374",
   "metadata": {},
   "source": [
    "Visual Studio에서 손실 함수 및 최적화 도구를 정의하는 다음 코드를 PyTorchTraining.py 파일에 복사합니다."
   ]
  },
  {
   "cell_type": "code",
   "execution_count": 28,
   "id": "2e1c7ba0",
   "metadata": {},
   "outputs": [],
   "source": [
    "from torch.optim import Adam\n",
    " \n",
    "# Define the loss function with Classification Cross-Entropy loss and an optimizer with Adam optimizer\n",
    "loss_fn = nn.CrossEntropyLoss()\n",
    "optimizer = Adam(model.parameters(), lr=0.001, weight_decay=0.0001)"
   ]
  },
  {
   "cell_type": "markdown",
   "id": "1ceeb837",
   "metadata": {},
   "source": [
    "### 4. 학습 데이터에서 모델을 학습시킵니다."
   ]
  },
  {
   "cell_type": "markdown",
   "id": "a9d900e9",
   "metadata": {},
   "source": [
    "모델을 학습시키려면 데이터 반복기를 반복하고, 입력을 네트워크에 공급하고, 최적화해야 합니다. PyTorch에는 GPU 전용 라이브러리가 없지만 실행 디바이스를 수동으로 정의할 수 있습니다. 디바이스가 컴퓨터에 있으면 Nvidia GPU가 되고, 그렇지 않으면 CPU가 됩니다."
   ]
  },
  {
   "cell_type": "code",
   "execution_count": 29,
   "id": "14c96fa0",
   "metadata": {},
   "outputs": [],
   "source": [
    "from torch.autograd import Variable"
   ]
  },
  {
   "cell_type": "code",
   "execution_count": 30,
   "id": "1ecf3471",
   "metadata": {},
   "outputs": [],
   "source": [
    "# Function to save the model\n",
    "def saveModel():\n",
    "    path = \"./myFirstModel.pth\"\n",
    "    torch.save(model.state_dict(), path)"
   ]
  },
  {
   "cell_type": "code",
   "execution_count": 31,
   "id": "54b58744",
   "metadata": {},
   "outputs": [],
   "source": [
    "# Function to test the model with the test dataset and print the accuracy for the test images\n",
    "def testAccuracy():\n",
    "    \n",
    "    model.eval()\n",
    "    accuracy = 0.0\n",
    "    total = 0.0\n",
    "    \n",
    "    with torch.no_grad():\n",
    "        for data in test_loader:\n",
    "            images, labels = data\n",
    "            # run the model on the test set to predict labels\n",
    "            outputs = model(images)\n",
    "            # the label with the highest energy will be our prediction\n",
    "            _, predicted = torch.max(outputs.data, 1)\n",
    "            total += labels.size(0)\n",
    "            accuracy += (predicted == labels).sum().item()\n",
    "    \n",
    "    # compute the accuracy over all test images\n",
    "    accuracy = (100 * accuracy / total)\n",
    "    return(accuracy)\n"
   ]
  },
  {
   "cell_type": "code",
   "execution_count": 32,
   "id": "fcd3a11c",
   "metadata": {},
   "outputs": [],
   "source": [
    "# Training function. We simply have to loop over our data iterator and feed the inputs to the network and optimize.\n",
    "def train(num_epochs):\n",
    "    \n",
    "    best_accuracy = 0.0\n",
    "\n",
    "    # Define your execution device\n",
    "    device = torch.device(\"cuda:0\" if torch.cuda.is_available() else \"cpu\")\n",
    "    print(\"The model will be running on\", device, \"device\")\n",
    "    # Convert model parameters and buffers to CPU or Cuda\n",
    "    model.to(device)\n",
    "\n",
    "    for epoch in range(num_epochs):  # loop over the dataset multiple times\n",
    "        running_loss = 0.0\n",
    "        running_acc = 0.0\n",
    "\n",
    "        for i, (images, labels) in enumerate(train_loader, 0):\n",
    "            \n",
    "            # get the inputs\n",
    "            images = Variable(images.to(device))\n",
    "            labels = Variable(labels.to(device))\n",
    "\n",
    "            # zero the parameter gradients\n",
    "            optimizer.zero_grad()\n",
    "            # predict classes using images from the training set\n",
    "            outputs = model(images)\n",
    "            # compute the loss based on model output and real labels\n",
    "            loss = loss_fn(outputs, labels)\n",
    "            # backpropagate the loss\n",
    "            loss.backward()\n",
    "            # adjust parameters based on the calculated gradients\n",
    "            optimizer.step()\n",
    "\n",
    "            # Let's print statistics for every 1,000 images\n",
    "            running_loss += loss.item()     # extract the loss value\n",
    "            if i % 1000 == 999:    \n",
    "                # print every 1000 (twice per epoch) \n",
    "                print('[%d, %5d] loss: %.3f' %\n",
    "                      (epoch + 1, i + 1, running_loss / 1000))\n",
    "                # zero the loss\n",
    "                running_loss = 0.0\n",
    "\n",
    "        # Compute and print the average accuracy fo this epoch when tested over all 10000 test images\n",
    "        accuracy = testAccuracy()\n",
    "        print('For epoch', epoch+1,'the test accuracy over the whole test set is %d %%' % (accuracy))\n",
    "        \n",
    "        # we want to save the model if the accuracy is the best\n",
    "        if accuracy > best_accuracy:\n",
    "            saveModel()\n",
    "            best_accuracy = accuracy"
   ]
  },
  {
   "cell_type": "markdown",
   "id": "8300daff",
   "metadata": {},
   "source": [
    "### 5. 테스트 데이터에서 네트워크를 테스트합니다."
   ]
  },
  {
   "cell_type": "markdown",
   "id": "53201b88",
   "metadata": {},
   "source": [
    "이제 테스트 세트에서 이미지 일괄 처리를 사용하여 모델을 테스트할 수 있습니다."
   ]
  },
  {
   "cell_type": "code",
   "execution_count": 33,
   "id": "29ec32e2",
   "metadata": {},
   "outputs": [],
   "source": [
    "import matplotlib.pyplot as plt\n",
    "import numpy as np"
   ]
  },
  {
   "cell_type": "code",
   "execution_count": 34,
   "id": "288ed1e3",
   "metadata": {},
   "outputs": [],
   "source": [
    "# Function to show the images\n",
    "def imageshow(img):\n",
    "    img = img / 2 + 0.5     # unnormalize\n",
    "    npimg = img.numpy()\n",
    "    plt.imshow(np.transpose(npimg, (1, 2, 0)))\n",
    "    plt.show()"
   ]
  },
  {
   "cell_type": "code",
   "execution_count": 35,
   "id": "067ae4f9",
   "metadata": {},
   "outputs": [],
   "source": [
    "# Function to test the model with a batch of images and show the labels predictions\n",
    "def testBatch():\n",
    "    # get batch of images from the test DataLoader  \n",
    "    images, labels = next(iter(test_loader))\n",
    "\n",
    "    # show all images as one image grid\n",
    "    imageshow(torchvision.utils.make_grid(images))\n",
    "   \n",
    "    # Show the real labels on the screen \n",
    "    print('Real labels: ', ' '.join('%5s' % classes[labels[j]] \n",
    "                               for j in range(batch_size)))\n",
    "  \n",
    "    # Let's see what if the model identifiers the  labels of those example\n",
    "    outputs = model(images)\n",
    "    \n",
    "    # We got the probability for every 10 labels. The highest (max) probability should be correct label\n",
    "    _, predicted = torch.max(outputs, 1)\n",
    "    \n",
    "    # Let's show the predicted labels on the screen to compare with the real ones\n",
    "    print('Predicted: ', ' '.join('%5s' % classes[predicted[j]] \n",
    "                              for j in range(batch_size)))"
   ]
  },
  {
   "cell_type": "code",
   "execution_count": 36,
   "id": "8f274fc3",
   "metadata": {},
   "outputs": [
    {
     "name": "stdout",
     "output_type": "stream",
     "text": [
      "The model will be running on cpu device\n",
      "[1,  1000] loss: 1.773\n",
      "[1,  2000] loss: 1.454\n",
      "[1,  3000] loss: 1.292\n",
      "[1,  4000] loss: 1.198\n",
      "[1,  5000] loss: 1.136\n",
      "For epoch 1 the test accuracy over the whole test set is 63 %\n",
      "[2,  1000] loss: 1.048\n",
      "[2,  2000] loss: 1.034\n",
      "[2,  3000] loss: 0.995\n",
      "[2,  4000] loss: 0.979\n",
      "[2,  5000] loss: 0.946\n",
      "For epoch 2 the test accuracy over the whole test set is 65 %\n",
      "[3,  1000] loss: 0.882\n",
      "[3,  2000] loss: 0.893\n",
      "[3,  3000] loss: 0.874\n",
      "[3,  4000] loss: 0.891\n",
      "[3,  5000] loss: 0.863\n",
      "For epoch 3 the test accuracy over the whole test set is 69 %\n",
      "[4,  1000] loss: 0.778\n",
      "[4,  2000] loss: 0.781\n",
      "[4,  3000] loss: 0.808\n",
      "[4,  4000] loss: 0.810\n",
      "[4,  5000] loss: 0.820\n",
      "For epoch 4 the test accuracy over the whole test set is 70 %\n",
      "[5,  1000] loss: 0.698\n",
      "[5,  2000] loss: 0.742\n",
      "[5,  3000] loss: 0.732\n",
      "[5,  4000] loss: 0.759\n",
      "[5,  5000] loss: 0.768\n",
      "For epoch 5 the test accuracy over the whole test set is 70 %\n",
      "Finished Training\n"
     ]
    },
    {
     "data": {
      "image/png": "[encoded data removed]",
      "text/plain": [
       "<Figure size 432x288 with 1 Axes>"
      ]
     },
     "metadata": {
      "needs_background": "light"
     },
     "output_type": "display_data"
    },
    {
     "name": "stdout",
     "output_type": "stream",
     "text": [
      "Real labels:    cat  ship  ship plane  frog  frog   car  frog   cat   car\n",
      "Predicted:    cat  ship   car plane  frog truck   cat  bird   cat truck\n"
     ]
    }
   ],
   "source": [
    "if __name__ == \"__main__\":\n",
    "    \n",
    "    # Let's build our model\n",
    "    train(5)\n",
    "    print('Finished Training')\n",
    "\n",
    "    # Test which classes performed well\n",
    "    testAccuracy()\n",
    "    \n",
    "    # Let's load the model we just created and test the accuracy per label\n",
    "    model = Network()\n",
    "    path = \"myFirstModel.pth\"\n",
    "    model.load_state_dict(torch.load(path))\n",
    "\n",
    "    # Test with batch of images\n",
    "    testBatch()"
   ]
  },
  {
   "cell_type": "markdown",
   "id": "0be9f9b4",
   "metadata": {},
   "source": [
    "2와 같은 Epoch 수(학습 데이터 세트를 통과하는 전체 횟수)를 선택하면([train(2)]) 10,000개 이미지의 전체 테스트 데이터 세트를 두 번 반복합니다. 8세대 Intel CPU에 대한 학습을 완료하는 데 약 20분이 걸리며, 이 모델은 10개의 레이블 분류에서 거의 65%의 성공률을 달성합니다."
   ]
  },
  {
   "cell_type": "markdown",
   "id": "a59dd57f",
   "metadata": {},
   "source": [
    "정의한 대로 손실 값은 1,000개의 이미지 일괄 처리마다 출력되거나 학습 세트를 반복할 떄마다 5번 출력됩니다. 모든 루프에서 손실 값이 감소해야 합니다."
   ]
  },
  {
   "cell_type": "markdown",
   "id": "e26d1cb7",
   "metadata": {},
   "source": [
    "또한 각 반복 후에 모델의 정확도를 확인할 수 있습니다. 모델 정확도는 손실 값과 다릅니다. 손실 함수를 통해 학습 세트에서 최적화를 반복할 때마다 모델이 얼마나 잘 작동하는지 이해할 수 있습니다. 모델의 정확도는 테스트 데이터에서 계산되며 올바른 예측의 백분율을 보여 줍니다. 여기서는 모델에서 각 학습을 반복한 후 10,000개의 이미지 테스트 세트에서 올바르게 분류할 수 있었던 이미지의 수를 알려줍니다."
   ]
  },
  {
   "cell_type": "code",
   "execution_count": 37,
   "id": "c6802e5f",
   "metadata": {},
   "outputs": [],
   "source": [
    "# Function to test what classes performed well\n",
    "def testClassess():\n",
    "    class_correct = list(0. for i in range(number_of_labels))\n",
    "    class_total = list(0. for i in range(number_of_labels))\n",
    "    with torch.no_grad():\n",
    "        for data in test_loader:\n",
    "            images, labels = data\n",
    "            outputs = model(images)\n",
    "            _, predicted = torch.max(outputs, 1)\n",
    "            c = (predicted == labels).squeeze()\n",
    "            for i in range(batch_size):\n",
    "                label = labels[i]\n",
    "                class_correct[label] += c[i].item()\n",
    "                class_total[label] += 1\n",
    "\n",
    "    for i in range(number_of_labels):\n",
    "        print('Accuracy of %5s : %2d %%' % (classes[i], 100 * class_correct[i] / class_total[i]))"
   ]
  },
  {
   "cell_type": "code",
   "execution_count": 38,
   "id": "605947d7",
   "metadata": {},
   "outputs": [
    {
     "name": "stdout",
     "output_type": "stream",
     "text": [
      "Accuracy of plane : 81 %\n",
      "Accuracy of   car : 77 %\n",
      "Accuracy of  bird : 44 %\n",
      "Accuracy of   cat : 51 %\n",
      "Accuracy of  deer : 53 %\n",
      "Accuracy of   dog : 44 %\n",
      "Accuracy of  frog : 46 %\n",
      "Accuracy of horse : 72 %\n",
      "Accuracy of  ship : 77 %\n",
      "Accuracy of truck : 81 %\n"
     ]
    }
   ],
   "source": [
    "testClassess()"
   ]
  }
 ],
 "metadata": {
  "kernelspec": {
   "display_name": "Python 3 (ipykernel)",
   "language": "python",
   "name": "python3"
  },
  "language_info": {
   "codemirror_mode": {
    "name": "ipython",
    "version": 3
   },
   "file_extension": ".py",
   "mimetype": "text/x-python",
   "name": "python",
   "nbconvert_exporter": "python",
   "pygments_lexer": "ipython3",
   "version": "3.9.12"
  }
 },
 "nbformat": 4,
 "nbformat_minor": 5
}
